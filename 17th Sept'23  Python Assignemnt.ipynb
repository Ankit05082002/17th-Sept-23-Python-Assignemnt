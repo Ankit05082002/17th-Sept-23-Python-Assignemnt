{
 "cells": [
  {
   "cell_type": "code",
   "execution_count": null,
   "metadata": {},
   "outputs": [],
   "source": [
    "#FOR LOOP :-"
   ]
  },
  {
   "cell_type": "code",
   "execution_count": 2,
   "metadata": {},
   "outputs": [
    {
     "name": "stdout",
     "output_type": "stream",
     "text": [
      "1 2 3 4 5 6 7 8 9 10 "
     ]
    }
   ],
   "source": [
    "#Q1\n",
    "a1=range(1,11)\n",
    "for i in a1:\n",
    "    print(i,end=\" \")"
   ]
  },
  {
   "cell_type": "markdown",
   "metadata": {},
   "source": [
    "Q2.\n",
    "ans. A for loop is used when you know the number of iterations beforehand or when you want to iterate over a sequence (like a list or tuple).\n",
    "A while loop is used when you want to execute a block of code repeatedly until a condition becomes False. It's suitable when you don't know the exact number of iterations in advance.\n",
    "\n",
    "\n",
    "\n",
    "\n",
    "\n"
   ]
  },
  {
   "cell_type": "code",
   "execution_count": 5,
   "metadata": {},
   "outputs": [
    {
     "name": "stdout",
     "output_type": "stream",
     "text": [
      "sum of all no. from 1 to 100 is 5050\n"
     ]
    }
   ],
   "source": [
    "#Q3\n",
    "total_sum=0\n",
    "for i in range(1,101):\n",
    "    total_sum+=i\n",
    "print(f'sum of all no. from 1 to 100 is {total_sum}')\n",
    "\n"
   ]
  },
  {
   "cell_type": "markdown",
   "metadata": {},
   "source": [
    "Q4.\n",
    "ans. In Python, you can iterate through a list using a for loop by iterating over each element in the list directly. Here's a simple example:\n",
    "\n",
    "my_list = [1, 2, 3, 4, 5]\n",
    "for element in my_list:\n",
    "    print(element)\n",
    "\n",
    "This loop iterates through each element in my_list, assigning each element to the variable element, and then performs some operation with it.\n",
    "\n",
    "\n",
    "\n",
    "\n",
    "\n",
    "\n"
   ]
  },
  {
   "cell_type": "code",
   "execution_count": 7,
   "metadata": {},
   "outputs": [
    {
     "name": "stdout",
     "output_type": "stream",
     "text": [
      "The product of all elemrnt is 362880\n"
     ]
    }
   ],
   "source": [
    "#Q5\n",
    "numbers=[2,3,4,5,6,7,8,9]\n",
    "product=1\n",
    "for num in numbers:\n",
    "    product*=num\n",
    "print(f'The product of all elemrnt is {product}')"
   ]
  },
  {
   "cell_type": "code",
   "execution_count": 3,
   "metadata": {},
   "outputs": [
    {
     "name": "stdout",
     "output_type": "stream",
     "text": [
      "[2, 4, 6, 8, 10, 12, 14, 16, 18, 20]\n"
     ]
    }
   ],
   "source": [
    "#Q6.\n",
    "hii=list(filter(lambda a: a%2==0,range(1,21)))\n",
    "print(hii)"
   ]
  },
  {
   "cell_type": "code",
   "execution_count": 10,
   "metadata": {},
   "outputs": [],
   "source": [
    "#Q7\n",
    "test11=(lambda a: 1 if a ==1 else a*test11(a-1))"
   ]
  },
  {
   "cell_type": "code",
   "execution_count": 11,
   "metadata": {},
   "outputs": [
    {
     "data": {
      "text/plain": [
       "120"
      ]
     },
     "execution_count": 11,
     "metadata": {},
     "output_type": "execute_result"
    }
   ],
   "source": [
    "test11(5)"
   ]
  },
  {
   "cell_type": "markdown",
   "metadata": {},
   "source": [
    "Q8.\n",
    "ans.To iterate through the characters of a string using a for loop in Python, you can use the syntax for char in my_string. This loop will iterate over each character in the string my_string, assigning each character to the variable char one at a time."
   ]
  },
  {
   "cell_type": "code",
   "execution_count": 24,
   "metadata": {},
   "outputs": [
    {
     "name": "stdout",
     "output_type": "stream",
     "text": [
      "56\n"
     ]
    }
   ],
   "source": [
    "#Q9.\n",
    "a1=[1,2,4,56,8]\n",
    "largest=a1[0]\n",
    "for i in a1:\n",
    "    if i > largest:\n",
    "        largest=i\n",
    "\n",
    "print(largest)\n"
   ]
  },
  {
   "cell_type": "code",
   "execution_count": 7,
   "metadata": {},
   "outputs": [
    {
     "name": "stdout",
     "output_type": "stream",
     "text": [
      "The number of fibo series 5\n"
     ]
    }
   ],
   "source": [
    "#Q10.\n",
    "fib=int(input())\n",
    "fibo=[0,1]\n",
    "for i in range(2,fib+1):\n",
    "    fib1=fibo[i-1]+fibo[i-2]\n",
    "    fibo.append(fib1)\n",
    "print(f'The number of fibo series {fibo[i]}')"
   ]
  },
  {
   "cell_type": "code",
   "execution_count": 5,
   "metadata": {},
   "outputs": [
    {
     "name": "stdout",
     "output_type": "stream",
     "text": [
      "The vowels in the string are:['a', 'i']\n"
     ]
    }
   ],
   "source": [
    "#Q11\n",
    "def find_vowel(user_input):\n",
    "    vowel=['a','e','i','o','u']\n",
    "    vowel_count=[]\n",
    "    for char in user_input:\n",
    "        if char.lower() in vowel:\n",
    "            vowel_count.append(char)\n",
    "    return vowel_count\n",
    "user_input=input()\n",
    "result=find_vowel(user_input)\n",
    "print(f\"The vowels in the string are:{result}\")\n"
   ]
  },
  {
   "cell_type": "code",
   "execution_count": 10,
   "metadata": {},
   "outputs": [
    {
     "name": "stdout",
     "output_type": "stream",
     "text": [
      "* \n",
      "* * \n",
      "* * * \n",
      "* * * * \n",
      "* * * * * \n"
     ]
    }
   ],
   "source": [
    "#Q12\n",
    "for i in range(5):\n",
    "    for m in range(i+1):\n",
    "        print('*',end=' ')\n",
    "    print()"
   ]
  },
  {
   "cell_type": "code",
   "execution_count": 12,
   "metadata": {},
   "outputs": [
    {
     "name": "stdout",
     "output_type": "stream",
     "text": [
      "t i k n a l u h a r "
     ]
    }
   ],
   "source": [
    "#Q13\n",
    "list=['ankit','rahul']\n",
    "for i in list:\n",
    "    for m in i[::-1]:\n",
    "        print(m,end=' ')"
   ]
  },
  {
   "cell_type": "code",
   "execution_count": 2,
   "metadata": {},
   "outputs": [
    {
     "name": "stdout",
     "output_type": "stream",
     "text": [
      "Common elements between the lists:[3, 4, 5, 6]\n"
     ]
    }
   ],
   "source": [
    "#Q14\n",
    "def common_element(list1,list2):\n",
    "    common=[]\n",
    "    for element in list1:\n",
    "        if element in list2 and element not in common:\n",
    "            common.append(element)\n",
    "    return common\n",
    "list1=[1,2,3,4,5,6]\n",
    "list2=[3,4,5,6,7,10]\n",
    "result1=common_element(list1,list2)\n",
    "print(f'Common elements between the lists:{result1}')"
   ]
  },
  {
   "cell_type": "markdown",
   "metadata": {},
   "source": [
    "Q15.\n",
    "ans- In Python, you can use a for loop to iterate through the keys and values of a dictionary using the .items() method. Here's how you do it:\n",
    "\n",
    "my_dict = {'a': 1, 'b': 2, 'c': 3}\n",
    "\n",
    "for key, value in my_dict.items():\n",
    "    print(key, value)\n",
    "\n",
    "\n",
    "This loop iterates through each key-value pair in the dictionary my_dict, assigning the key to the variable key and the corresponding value to the variable value, allowing you to access both key and value within the loop body."
   ]
  },
  {
   "cell_type": "code",
   "execution_count": 3,
   "metadata": {},
   "outputs": [
    {
     "name": "stdout",
     "output_type": "stream",
     "text": [
      "gcd of this number :5\n"
     ]
    }
   ],
   "source": [
    "#Q16\n",
    "list3=int(input())\n",
    "list4=int(input())\n",
    "if list3>list4:\n",
    "    smallest=list3\n",
    "else:\n",
    "    smallest=list4\n",
    "    gcd=1\n",
    "    for i in range(1,smallest+1):\n",
    "        if list3%i==0 and list4%i==0:\n",
    "            gcd=i\n",
    "    print(f'gcd of this number :{gcd}')\n"
   ]
  },
  {
   "cell_type": "code",
   "execution_count": 29,
   "metadata": {},
   "outputs": [
    {
     "name": "stdout",
     "output_type": "stream",
     "text": [
      "The input string is palindrome\n"
     ]
    }
   ],
   "source": [
    "#Q17\n",
    "input_string=input()\n",
    "input22=input_string.lower()\n",
    "is_palindrome=True\n",
    "for char in range(len(input22)//2):\n",
    "    if input22[char]!=input22[-char-1]:\n",
    "        is_palindrome=False\n",
    "        break\n",
    "if is_palindrome:\n",
    "    print(f'The input string is palindrome')\n",
    "else:\n",
    "    print(f\"The input string is not palindrome\")"
   ]
  },
  {
   "cell_type": "code",
   "execution_count": 33,
   "metadata": {},
   "outputs": [
    {
     "name": "stdout",
     "output_type": "stream",
     "text": [
      "The new list after removing duplicate is [1, 2, 3, 4, 5, 6, 7, 8, 9]\n"
     ]
    }
   ],
   "source": [
    "#Q18\n",
    "entire_string=[1,1,2,2,3,3,4,5,6,7,7,8,8,9]\n",
    "unique_list=[]\n",
    "for item in entire_string:\n",
    "    if item not in unique_list:\n",
    "        unique_list.append(item)\n",
    "print(f'The new list after removing duplicate is {unique_list}')\n"
   ]
  },
  {
   "cell_type": "code",
   "execution_count": 34,
   "metadata": {},
   "outputs": [
    {
     "name": "stdout",
     "output_type": "stream",
     "text": [
      "The count of the word in a string is 8\n"
     ]
    }
   ],
   "source": [
    "#Q19.\n",
    "entire_string=input()\n",
    "counted_word=0\n",
    "for words in str(entire_string):\n",
    "    if words==' ':\n",
    "        counted_word+=1\n",
    "    else:\n",
    "        counted_word+=1\n",
    "print(f'The count of the word in a string is {counted_word}')"
   ]
  },
  {
   "cell_type": "code",
   "execution_count": 9,
   "metadata": {},
   "outputs": [
    {
     "name": "stdout",
     "output_type": "stream",
     "text": [
      "The sum of all odd number from 1 to 50 is : 625\n"
     ]
    }
   ],
   "source": [
    "#Q20.\n",
    "input12=int(input())\n",
    "sum_of_num=0\n",
    "for num in range(1,input12+1):\n",
    "    if num%2!=0:\n",
    "        sum_of_num+=num\n",
    "print(f\"The sum of all odd number from 1 to 50 is : {sum_of_num}\")"
   ]
  },
  {
   "cell_type": "code",
   "execution_count": 1,
   "metadata": {},
   "outputs": [
    {
     "name": "stdout",
     "output_type": "stream",
     "text": [
      "THe year is prime: 2024\n"
     ]
    }
   ],
   "source": [
    "#Q21.\n",
    "year=int(input())\n",
    "leap_year=False\n",
    "for num in range(1,year+1):\n",
    "    if num%400==0 or num%4==0 and num%100!=0:\n",
    "        if num==year:\n",
    "            leap_year=True\n",
    "            break\n",
    "if leap_year:\n",
    "    print(f'THe year is prime: {num}')\n",
    "else:\n",
    "    print(f\"The year is not prime:{num}\")"
   ]
  },
  {
   "cell_type": "code",
   "execution_count": 22,
   "metadata": {},
   "outputs": [
    {
     "name": "stdout",
     "output_type": "stream",
     "text": [
      "The roots of given number is : [1.4142135623730951]\n"
     ]
    }
   ],
   "source": [
    "#Q22.\n",
    "square_root=int(input())\n",
    "answer=[]\n",
    "for i in range(2,square_root+1):\n",
    "    root=i**0.5\n",
    "    answer.append(root)\n",
    "print(f'The roots of given number is : {answer}')\n"
   ]
  },
  {
   "cell_type": "code",
   "execution_count": 23,
   "metadata": {},
   "outputs": [
    {
     "name": "stdout",
     "output_type": "stream",
     "text": [
      "LCM of 12 and 15 is: 60\n"
     ]
    }
   ],
   "source": [
    "#Q23.\n",
    "def find_lcm(x, y):\n",
    "    # Find the maximum of two numbers\n",
    "    max_num = max(x, y)\n",
    "\n",
    "    # Start checking from the maximum number\n",
    "    for i in range(max_num, x * y + 1, max_num):\n",
    "        if i % x == 0 and i % y == 0:\n",
    "            return i\n",
    "\n",
    "# Example usage:\n",
    "num1 = 12\n",
    "num2 = 15\n",
    "print(\"LCM of\", num1, \"and\", num2, \"is:\", find_lcm(num1, num2))\n",
    "\n"
   ]
  },
  {
   "cell_type": "code",
   "execution_count": null,
   "metadata": {},
   "outputs": [],
   "source": [
    "# IF ELSE:"
   ]
  },
  {
   "cell_type": "code",
   "execution_count": 6,
   "metadata": {},
   "outputs": [
    {
     "name": "stdout",
     "output_type": "stream",
     "text": [
      "number is positive\n"
     ]
    }
   ],
   "source": [
    "#Q1\n",
    "num1=int(input())\n",
    "if num>0:\n",
    "    print(f\"number is positive\")\n",
    "elif num<0:\n",
    "    print(f\"number is negative\")\n",
    "else:\n",
    "    print(f'number is negative')"
   ]
  },
  {
   "cell_type": "code",
   "execution_count": 7,
   "metadata": {},
   "outputs": [
    {
     "name": "stdout",
     "output_type": "stream",
     "text": [
      "The given number is even number:2\n"
     ]
    }
   ],
   "source": [
    "#Q2\n",
    "# Input a number\n",
    "number = int(input(\"Enter a number: \"))\n",
    "if number%2==0:\n",
    "    print(f\"The given number is even number:{number}\")\n",
    "else:\n",
    "    print(f\"The given num is odd num :{number}\")\n",
    "\n"
   ]
  },
  {
   "cell_type": "markdown",
   "metadata": {},
   "source": [
    "Q3.\n",
    "ans- In Python, you can use nested if-else statements by placing one if-else statement inside another if-else block. Each if-else statement is evaluated sequentially, and the nested structure allows for more complex decision-making logic.\n",
    "\n",
    "\n",
    "x = 10\n",
    "\n",
    "if x > 5:\n",
    "\n",
    "    print(\"x is greater than 5\")\n",
    "    if x > 7:\n",
    "        print(\"x is also greater than 7\")\n",
    "    else:\n",
    "        print(\"x is not greater than 7\")\n",
    "else:\n",
    "    print(\"x is not greater than 5\")\n",
    "\n",
    "\n",
    "In this example, the outer if-else statement checks if x is greater than 5. If it is, it prints a message and then checks whether x is also greater than 7 using a nested if-else statement. Depending on the conditions, different messages are printed.\n"
   ]
  },
  {
   "cell_type": "code",
   "execution_count": 10,
   "metadata": {},
   "outputs": [
    {
     "name": "stdout",
     "output_type": "stream",
     "text": [
      "largest num is :50\n"
     ]
    }
   ],
   "source": [
    "#Q4.\n",
    "num1=int(input())\n",
    "num2=int(input())\n",
    "num3=int(input())\n",
    "if num1>num2 and num1>num3:\n",
    "    largest_num=num1\n",
    "    print(f\"largest num is : {largest_num}\")\n",
    "elif num2>num1 and num2>num3:\n",
    "    largest_num=num2\n",
    "    print(f\"largest num is :{largest_num}\")\n",
    "else:\n",
    "    largest_num=num3\n",
    "    print(f'largest num is :{largest_num}')\n"
   ]
  },
  {
   "cell_type": "code",
   "execution_count": 23,
   "metadata": {},
   "outputs": [
    {
     "name": "stdout",
     "output_type": "stream",
     "text": [
      "The absolute value of entre num from negative is 20 \n"
     ]
    }
   ],
   "source": [
    "#Q5\n",
    "num=int(input())\n",
    "if num>0:\n",
    "    print(f'The absolute value of entre num is :{num}')\n",
    "else:\n",
    "    print(f\"The absolute value of entre num from negative is {-num} \")"
   ]
  },
  {
   "cell_type": "code",
   "execution_count": 28,
   "metadata": {},
   "outputs": [
    {
     "name": "stdout",
     "output_type": "stream",
     "text": [
      "The entire string have constants\n"
     ]
    }
   ],
   "source": [
    "#Q6\n",
    "entire_string=input()\n",
    "vowel=['a','e','i','o','u','A','E','I','O','U']\n",
    "is_constant=True\n",
    "for char in entire_string:\n",
    "    if char in vowel:\n",
    "        is_constant=False\n",
    "     \n",
    "if is_constant:\n",
    "    print(f'The entire string have constants')\n",
    "else:\n",
    "    print(f'The entire string have vowels')"
   ]
  },
  {
   "cell_type": "code",
   "execution_count": 32,
   "metadata": {},
   "outputs": [
    {
     "name": "stdout",
     "output_type": "stream",
     "text": [
      "you are not eligible for vote\n"
     ]
    }
   ],
   "source": [
    "#Q7\n",
    "entre_age=int(input())\n",
    "if entre_age>=18:\n",
    "    print(f\"you are eligible for vote\")\n",
    "else:\n",
    "    print(f\"you are not eligible for vote\")"
   ]
  },
  {
   "cell_type": "code",
   "execution_count": 8,
   "metadata": {},
   "outputs": [
    {
     "name": "stdout",
     "output_type": "stream",
     "text": [
      "Discount is not applicable on this price \n",
      "The product price is :5000.00\n",
      "dicounted rate:0%\n",
      "The payable amount after discount is :5000.00\n"
     ]
    }
   ],
   "source": [
    "#Q8\n",
    "entire_price=int(input())\n",
    "discount=0\n",
    "if entire_price<=1000:\n",
    "    discount=0.15\n",
    "elif entire_price<=500:\n",
    "    discount=0.10\n",
    "elif entire_price<=150:\n",
    "    discount=0.05\n",
    "else:\n",
    "    print(f'Discount is not applicable on this price ' )\n",
    "\n",
    "discount_rate=entire_price-(entire_price*discount)\n",
    "print(f\"The product price is :{entire_price:.2f}\")\n",
    "print(f\"dicounted rate:{discount*100}%\")\n",
    "print(f\"The payable amount after discount is :{discount_rate:.2f}\")"
   ]
  },
  {
   "cell_type": "code",
   "execution_count": 2,
   "metadata": {},
   "outputs": [
    {
     "name": "stdout",
     "output_type": "stream",
     "text": [
      "The number is not under the limit\n"
     ]
    }
   ],
   "source": [
    "#Q9.\n",
    "lowest_limit=10\n",
    "upper_limit=50\n",
    "number=int(input())\n",
    "if number>=lowest_limit and number<=upper_limit:\n",
    "    print(f\"the number {number} is in {lowest_limit} and {upper_limit}\")\n",
    "else:\n",
    "    print(f\"The number is not under the limit\")"
   ]
  },
  {
   "cell_type": "code",
   "execution_count": 9,
   "metadata": {},
   "outputs": [
    {
     "name": "stdout",
     "output_type": "stream",
     "text": [
      "you are pass your grade is :C\n"
     ]
    }
   ],
   "source": [
    "#Q10\n",
    "marks=int(input())\n",
    "if marks>=95:\n",
    "    grade='A++'\n",
    "    print(f'you are pass your grade is :{grade}')\n",
    "elif marks>=80:\n",
    "    grade='A+'\n",
    "    print(f'you are pass your grade is :{grade}')\n",
    "elif marks>=70:\n",
    "    grade='B'\n",
    "    print(f'you are pass your grade is :{grade}')\n",
    "elif marks>=50:\n",
    "    grade='C'\n",
    "    print(f'you are pass your grade is :{grade}')\n",
    "else:\n",
    "    print(f'your are failed')\n",
    "    "
   ]
  },
  {
   "cell_type": "code",
   "execution_count": 13,
   "metadata": {},
   "outputs": [
    {
     "name": "stdout",
     "output_type": "stream",
     "text": [
      "THe string contains data\n"
     ]
    }
   ],
   "source": [
    "#Q11.\n",
    "string=input()\n",
    "if string== \"\":\n",
    "    print(f\"The string is empty\")\n",
    "else:\n",
    "    print(f\"THe string contains data\")"
   ]
  },
  {
   "cell_type": "code",
   "execution_count": 19,
   "metadata": {},
   "outputs": [
    {
     "name": "stdout",
     "output_type": "stream",
     "text": [
      "The triangle is equilaterial\n"
     ]
    }
   ],
   "source": [
    "#Q12\n",
    "angle1=int(input())\n",
    "angle2=int(input())\n",
    "angle3=int(input())\n",
    "if angle1==angle2 and angle3:\n",
    "    print(f\"The triangle is equilaterial\")\n",
    "elif angle1==angle2 or angle2==angle3 or angle3==angle1:\n",
    "    print(f\"this triangle is isosceles\")\n",
    "else:\n",
    "    print(f\"This triangle is scalene\")"
   ]
  },
  {
   "cell_type": "code",
   "execution_count": 3,
   "metadata": {},
   "outputs": [
    {
     "name": "stdout",
     "output_type": "stream",
     "text": [
      "you entered the invalid input\n"
     ]
    }
   ],
   "source": [
    "#Q13\n",
    "day=int(input())\n",
    "if day==1:\n",
    "    week_day='monday'\n",
    "    print(f\"Today is :{week_day}\")\n",
    "elif day==2:\n",
    "    week_day='tuesday'\n",
    "    print(f\"Today is :{week_day}\")\n",
    "elif day==3:\n",
    "    week_day='wednesday'\n",
    "    print(f\"Today is :{week_day}\")\n",
    "elif day==4:\n",
    "    week_day='thrusday'\n",
    "    print(f\"Today is :{week_day}\")\n",
    "elif day==5:\n",
    "    week_day='friday'\n",
    "    print(f\"Today is :{week_day}\")\n",
    "elif day==6:\n",
    "    week_day='saturaday'\n",
    "    print(f\"Today is :{week_day}\")\n",
    "elif day==7:\n",
    "    week_day='sunday'\n",
    "    print(f\"Today is :{week_day}\")\n",
    "else:\n",
    "    print(f\"you entered the invalid input\")"
   ]
  },
  {
   "cell_type": "code",
   "execution_count": 6,
   "metadata": {},
   "outputs": [
    {
     "name": "stdout",
     "output_type": "stream",
     "text": [
      "THe  entered year 2023 is not leap year\n"
     ]
    }
   ],
   "source": [
    "#Q14\n",
    "year=int(input())\n",
    "if year%400==0 or year%4==0 and year%100!=0:\n",
    "    print(f\"THe entered year {year} is leap year\")\n",
    "else:\n",
    "    print(f\"THe  entered year {year} is not leap year\")"
   ]
  },
  {
   "cell_type": "markdown",
   "metadata": {},
   "source": [
    "Q15.\n",
    "ans-In Python, the assert statement is used for debugging purposes to check whether a condition is true. If the condition evaluates to False, it raises an AssertionError exception. Here's how you can use it within if-else blocks:\n",
    "for example:\n",
    "\n",
    "x = 10\n",
    "\n",
    "if x > 5:\n",
    "\n",
    "    assert x > 5, \"x should be greater than 5\"  # Check if x is greater than 5\n",
    "else:\n",
    "\n",
    "    assert x <= 5, \"x should be less than or equal to 5\"  # Check if x is less than or equal to 5\n",
    "\n",
    "print(\"End of program\")\n",
    "\n",
    "\n",
    "\n",
    "Replace condition, condition_is_true, and condition_else_is_true with your actual conditions. The optional message is printed if the condition fails. This helps in identifying issues during debugging."
   ]
  },
  {
   "cell_type": "code",
   "execution_count": 11,
   "metadata": {},
   "outputs": [
    {
     "name": "stdout",
     "output_type": "stream",
     "text": [
      "Congratulations! You are eligible for a senior citizen discount. \n"
     ]
    }
   ],
   "source": [
    "#Q16\n",
    "person_age=int(input())\n",
    "if person_age>=60:\n",
    "    print(f\"Congratulations! You are eligible for a senior citizen discount. \")\n",
    "else:\n",
    "    print(f\"Sorry, you are not eligible for a senior citizen discount.\")"
   ]
  },
  {
   "cell_type": "code",
   "execution_count": 16,
   "metadata": {},
   "outputs": [
    {
     "name": "stdout",
     "output_type": "stream",
     "text": [
      "The char is 'ankit' lowercase\n"
     ]
    }
   ],
   "source": [
    "#Q17.\n",
    "char=input()\n",
    "if char.isupper():\n",
    "    print(f\"The character '{char}' is uppercase\")\n",
    "elif char.islower():\n",
    "    print(f\"The char is '{char}' lowercase\")\n",
    "else:\n",
    "    print(f\"The char is neither lowercase or uppercase\")"
   ]
  },
  {
   "cell_type": "code",
   "execution_count": 24,
   "metadata": {},
   "outputs": [
    {
     "name": "stdout",
     "output_type": "stream",
     "text": [
      "THe year 3000 is century year\n"
     ]
    }
   ],
   "source": [
    "#Q19.\n",
    "year=int(input())\n",
    "if year%100==0:\n",
    "    print(f\"THe year {year} is century year\")\n",
    "else:\n",
    "    print(f\"The year {year} is not century year\")"
   ]
  },
  {
   "cell_type": "code",
   "execution_count": 29,
   "metadata": {},
   "outputs": [
    {
     "name": "stdout",
     "output_type": "stream",
     "text": [
      "size of angles is  10 20 30 40\n",
      "its not forming a proper square\n"
     ]
    }
   ],
   "source": [
    "#Q20.\n",
    "angle1=int(input())\n",
    "angle2=int(input())\n",
    "angle3=int(input())\n",
    "angle4=int(input())\n",
    "print('size of angles is ',angle1,angle2,angle3,angle4)\n",
    "if angle1==angle2 and angle3 and angle4:\n",
    "    print(f\"Its a square\")\n",
    "else:\n",
    "    print(f\"its not forming a proper square\")"
   ]
  },
  {
   "cell_type": "markdown",
   "metadata": {},
   "source": [
    "Q21.\n",
    "ans- continue: Skips the rest of the current iteration in a loop and moves to the next iteration.\n",
    "\n",
    "break: Immediately exits the loop, skipping any remaining iterations.\n",
    "\n",
    "These statements are used to control the flow of execution within loops based on certain conditions."
   ]
  },
  {
   "cell_type": "code",
   "execution_count": 9,
   "metadata": {},
   "outputs": [
    {
     "name": "stdout",
     "output_type": "stream",
     "text": [
      "your bmi is :24.15\n",
      "Your comes under category is :Normalweight\n"
     ]
    }
   ],
   "source": [
    "#Q22.\n",
    "weight=float(input())\n",
    "height=float(input())\n",
    "height_cm=height/100\n",
    "bmi=weight/(height_cm**2)\n",
    "if bmi<18.5:\n",
    "    category='Underweight'\n",
    "elif 18.5<=bmi<24.5:\n",
    "    category='Normalweight'\n",
    "elif 24.5<=bmi<30:\n",
    "    category='overweight'\n",
    "else:\n",
    "    category='obese'\n",
    "print(f\"your bmi is :{bmi:.2f}\")\n",
    "print(f'Your comes under category is :{category}')"
   ]
  },
  {
   "cell_type": "markdown",
   "metadata": {},
   "source": [
    "Q23.\n",
    "ans-\n",
    "In Python, you can use the filter() function along with a lambda function containing an if-else statement to filter elements from a list. The filter() function applies a filtering function to each element of an iterable (like a list) and returns an iterator of the elements for which the filtering function returns True.\n",
    "\n",
    "Here's a short example:\n",
    "\n",
    "my_list = [1, 2, 3, 4, 5]\n",
    "\n",
    "filtered_list = filter(lambda x: x % 2 == 0, my_list)  \n",
    "\n",
    "print(list(filtered_list))  # Output: [2, 4]\n",
    "\n",
    "In this example, lambda x: x % 2 == 0 is a lambda function that returns True if x is even, and False otherwise. The filter() function applies this lambda function to each element of my_list, keeping only those elements for which the lambda function returns True. Finally, list(filtered_list) converts the resulting iterator back into a list."
   ]
  },
  {
   "cell_type": "code",
   "execution_count": 11,
   "metadata": {},
   "outputs": [
    {
     "name": "stdout",
     "output_type": "stream",
     "text": [
      "Not a valid input for prime check\n"
     ]
    }
   ],
   "source": [
    "#Q24.\n",
    "number=int(input())\n",
    "if number>1:\n",
    "    for i in range(2,int(number**0.5)+1):\n",
    "        if number%i==0:\n",
    "            print(f\"The number {number} is not prime number\")\n",
    "            break\n",
    "    else:\n",
    "         print(f\"The num {number} is prime number\")\n",
    "else:\n",
    "    print(f'Not a valid input for prime check')\n"
   ]
  },
  {
   "cell_type": "code",
   "execution_count": null,
   "metadata": {},
   "outputs": [],
   "source": [
    "#MAP:-"
   ]
  },
  {
   "cell_type": "markdown",
   "metadata": {},
   "source": [
    "Q1.\n",
    "ans-\n",
    "The map() function in Python is used to apply a given function to each item in an iterable (such as a list) and returns a new iterator that yields the results. It essentially applies the function to each element of the iterable, producing a new iterable with the results.\n",
    "\n",
    "Here's a short example:\n",
    "\n",
    "\n",
    "def square(x):\n",
    "    return x ** 2\n",
    "\n",
    "\n",
    "numbers = [1, 2, 3, 4, 5]\n",
    "squared_numbers = map(square, numbers)\n",
    "\n",
    "\n",
    "squared_numbers_list = list(squared_numbers)\n",
    "print(squared_numbers_list)  # Output: [1, 4, 9, 16, 25]\n",
    "\n",
    "In this example, the map() function applies the square() function to each element of the numbers list, producing a new iterable containing the squared values."
   ]
  },
  {
   "cell_type": "code",
   "execution_count": 18,
   "metadata": {},
   "outputs": [
    {
     "data": {
      "text/plain": [
       "[1, 4, 9, 16, 25, 36, 49, 64]"
      ]
     },
     "execution_count": 18,
     "metadata": {},
     "output_type": "execute_result"
    }
   ],
   "source": [
    "#Q2\n",
    "number=[1,2,3,4,5,6,7,8]\n",
    "list(map(lambda a: a*a,number))\n"
   ]
  },
  {
   "cell_type": "markdown",
   "metadata": {},
   "source": [
    "Q3.\n",
    "ans-\n",
    "The map() function and list comprehensions both offer ways to apply a function to every element in a sequence, like a list, but they differ in syntax and usage:\n",
    "\n",
    "map() applies a function to each element of an iterable (like a list) and returns an iterator that yields the results.\n",
    "\n",
    "List comprehensions provide a concise way to create lists by applying an expression to each item in an iterable.\n",
    "\n",
    "Choosing between them depends on readability and personal preference:\n",
    "\n",
    "map() can be more concise when applying a function to every element.\n",
    "\n",
    "List comprehensions are often more readable and flexible, allowing for filtering and more complex expressions. Use them when readability is a priority or when additional complexity is needed."
   ]
  },
  {
   "cell_type": "code",
   "execution_count": 25,
   "metadata": {},
   "outputs": [
    {
     "data": {
      "text/plain": [
       "{'ANKIT,KUMAR', 'RAHUL'}"
      ]
     },
     "execution_count": 25,
     "metadata": {},
     "output_type": "execute_result"
    }
   ],
   "source": [
    "#Q4.\n",
    "nmae=\"ankit,kumar\" ,'rahul'\n",
    "set(map(lambda n:n.upper(),nmae))"
   ]
  },
  {
   "cell_type": "code",
   "execution_count": 27,
   "metadata": {},
   "outputs": [
    {
     "data": {
      "text/plain": [
       "[5, 5]"
      ]
     },
     "execution_count": 27,
     "metadata": {},
     "output_type": "execute_result"
    }
   ],
   "source": [
    "#Q5\n",
    "words=['ankit','rahul']\n",
    "list(map(lambda a:len(a),words))"
   ]
  },
  {
   "cell_type": "markdown",
   "metadata": {},
   "source": [
    "Q6.\n",
    "ans-\n",
    "You can use the map() function to apply a custom function to elements of multiple lists simultaneously by passing the function as the first argument to map() and the lists as subsequent arguments. The function will be applied element-wise to corresponding elements of the lists."
   ]
  },
  {
   "cell_type": "code",
   "execution_count": 2,
   "metadata": {},
   "outputs": [
    {
     "data": {
      "text/plain": [
       "[77.0, 84.2, 86.0, 122.0, 176.0, 194.0]"
      ]
     },
     "execution_count": 2,
     "metadata": {},
     "output_type": "execute_result"
    }
   ],
   "source": [
    "#Q7.\n",
    "celsius=[25,29,30,50,80,90]\n",
    "list(map(lambda b:(b*9/5)+32,celsius))"
   ]
  },
  {
   "cell_type": "code",
   "execution_count": 4,
   "metadata": {},
   "outputs": [
    {
     "data": {
      "text/plain": [
       "[12, 14, 460, 523]"
      ]
     },
     "execution_count": 4,
     "metadata": {},
     "output_type": "execute_result"
    }
   ],
   "source": [
    "#Q8.\n",
    "list22=[12.5,14.5,459.5,523.0]\n",
    "list(map(lambda a :round(a),list22))"
   ]
  },
  {
   "cell_type": "code",
   "execution_count": null,
   "metadata": {},
   "outputs": [],
   "source": [
    "#REDUCE:-"
   ]
  },
  {
   "cell_type": "markdown",
   "metadata": {},
   "source": [
    "Q1.\n",
    "ans-\n",
    "The reduce() function in Python is used to apply a function of two arguments cumulatively to the items of an iterable, from left to right, reducing the iterable to a single value. It's part of the functools module, so you need to import functools to use it.\n",
    "\n",
    "Here's a basic example of reduce() usage to find the product of elements in a list:\n",
    "\n",
    "from functools import reduce\n",
    "\n",
    "numbers = [1, 2, 3, 4, 5]\n",
    "\n",
    "product = reduce(lambda x, y: x * y, numbers)\n",
    "\n",
    "print(product)  # Output: 120\n",
    "\n",
    "in this example, reduce() applies the lambda function to each element of the list numbers, accumulating the result until a single value (product) is obtained.\n"
   ]
  },
  {
   "cell_type": "code",
   "execution_count": 2,
   "metadata": {},
   "outputs": [
    {
     "data": {
      "text/plain": [
       "120"
      ]
     },
     "execution_count": 2,
     "metadata": {},
     "output_type": "execute_result"
    }
   ],
   "source": [
    "#Q2\n",
    "from functools import reduce\n",
    "elements=[1,2,3,4,5]\n",
    "reduce(lambda x,y : x*y ,elements)\n"
   ]
  },
  {
   "cell_type": "code",
   "execution_count": 4,
   "metadata": {},
   "outputs": [
    {
     "data": {
      "text/plain": [
       "50"
      ]
     },
     "execution_count": 4,
     "metadata": {},
     "output_type": "execute_result"
    }
   ],
   "source": [
    "#Q3\n",
    "lisr12=[10,20,30,40,50]\n",
    "reduce(lambda a,b:max(a,b),lisr12)"
   ]
  },
  {
   "cell_type": "code",
   "execution_count": 13,
   "metadata": {},
   "outputs": [
    {
     "name": "stdout",
     "output_type": "stream",
     "text": [
      "hello world\n"
     ]
    }
   ],
   "source": [
    "#Q4.\n",
    "from functools import reduce\n",
    "import operator\n",
    "\n",
    "# Example list of strings\n",
    "strings_list = [\"hello\", \" \", \"world\"]\n",
    "\n",
    "# Concatenate the list of strings into a single string\n",
    "result = reduce(operator.add, strings_list)\n",
    "\n",
    "print(result)  # Output: \"hello world\"\n"
   ]
  },
  {
   "cell_type": "code",
   "execution_count": 18,
   "metadata": {},
   "outputs": [
    {
     "data": {
      "text/plain": [
       "120"
      ]
     },
     "execution_count": 18,
     "metadata": {},
     "output_type": "execute_result"
    }
   ],
   "source": [
    "#Q5.\n",
    "list55=int(input())\n",
    "reduce(lambda x,y :x*y ,range(1,list55+1))"
   ]
  },
  {
   "cell_type": "code",
   "execution_count": 27,
   "metadata": {},
   "outputs": [
    {
     "data": {
      "text/plain": [
       "10"
      ]
     },
     "execution_count": 27,
     "metadata": {},
     "output_type": "execute_result"
    }
   ],
   "source": [
    "#Q6\n",
    "import math\n",
    "list66=[10,20,30,40]\n",
    "reduce(math.gcd,list66)\n",
    "\n"
   ]
  },
  {
   "cell_type": "code",
   "execution_count": 34,
   "metadata": {},
   "outputs": [
    {
     "data": {
      "text/plain": [
       "32"
      ]
     },
     "execution_count": 34,
     "metadata": {},
     "output_type": "execute_result"
    }
   ],
   "source": [
    "#Q7\n",
    "list00=[12,25,98,23,0]\n",
    "reduce(lambda a,m :a+sum(int(digit) for digit in str(m) if digit.isdigit()),list00,0)"
   ]
  },
  {
   "cell_type": "code",
   "execution_count": null,
   "metadata": {},
   "outputs": [],
   "source": [
    "#FILTER:-"
   ]
  },
  {
   "cell_type": "markdown",
   "metadata": {},
   "source": [
    "Q1.\n",
    "ans-The purpose of the filter() function in Python is to create a new iterator from elements of an iterable for which a specified function returns true. It returns an iterator that yields only the elements of the iterable for which the provided function returns True.\n",
    "\n",
    "Example:"
   ]
  },
  {
   "cell_type": "code",
   "execution_count": 14,
   "metadata": {},
   "outputs": [
    {
     "name": "stdout",
     "output_type": "stream",
     "text": [
      "[2, 4, 6, 8, 10]\n"
     ]
    }
   ],
   "source": [
    "# Define a function to filter even numbers\n",
    "def is_even(num):\n",
    "    return num % 2 == 0\n",
    "\n",
    "# Create a list of numbers\n",
    "numbers = [1, 2, 3, 4, 5, 6, 7, 8, 9, 10]\n",
    "\n",
    "# Use filter() to filter out even numbers\n",
    "even_numbers = list(filter(is_even, numbers))\n",
    "\n",
    "print(even_numbers)  # Output: [2, 4, 6, 8, 10]\n"
   ]
  },
  {
   "cell_type": "code",
   "execution_count": 35,
   "metadata": {},
   "outputs": [
    {
     "data": {
      "text/plain": [
       "[2, 4, 8, 0, 12, 6]"
      ]
     },
     "execution_count": 35,
     "metadata": {},
     "output_type": "execute_result"
    }
   ],
   "source": [
    "#Q2.\n",
    "list90=[1,2,3,4,5,8,9,1,0,12,6]\n",
    "list(filter(lambda a:a%2==0,list90))"
   ]
  },
  {
   "cell_type": "code",
   "execution_count": 36,
   "metadata": {},
   "outputs": [
    {
     "data": {
      "text/plain": [
       "['ankit', 'america']"
      ]
     },
     "execution_count": 36,
     "metadata": {},
     "output_type": "execute_result"
    }
   ],
   "source": [
    "#Q3.\n",
    "name='ankit','rahul','pwskills','america'\n",
    "list(filter(lambda a:a[0]=='a',name))"
   ]
  },
  {
   "cell_type": "code",
   "execution_count": 1,
   "metadata": {},
   "outputs": [
    {
     "data": {
      "text/plain": [
       "[1, 3, 5, 9]"
      ]
     },
     "execution_count": 1,
     "metadata": {},
     "output_type": "execute_result"
    }
   ],
   "source": [
    "#Q4\n",
    "list6=[1,2,3,4,5,6,78,9]\n",
    "list(filter(lambda a:a%2!=0,list6))"
   ]
  },
  {
   "cell_type": "code",
   "execution_count": 5,
   "metadata": {},
   "outputs": [
    {
     "data": {
      "text/plain": [
       "['ankit']"
      ]
     },
     "execution_count": 5,
     "metadata": {},
     "output_type": "execute_result"
    }
   ],
   "source": [
    "#Q6\n",
    "woeds=['ankit','america','Bangolare']\n",
    "list(filter(lambda a : len(a)<=6,woeds))"
   ]
  },
  {
   "cell_type": "code",
   "execution_count": 6,
   "metadata": {},
   "outputs": [
    {
     "data": {
      "text/plain": [
       "[40, 50, 60, 70, 80]"
      ]
     },
     "execution_count": 6,
     "metadata": {},
     "output_type": "execute_result"
    }
   ],
   "source": [
    "#q7\n",
    "values=[10,20,30,40,50,60,70,80]\n",
    "Threshold=39\n",
    "list(filter(lambda v:v>Threshold,values))"
   ]
  },
  {
   "cell_type": "code",
   "execution_count": null,
   "metadata": {},
   "outputs": [],
   "source": [
    "#RECURSION"
   ]
  },
  {
   "cell_type": "markdown",
   "metadata": {},
   "source": [
    "Q1.\n",
    "ans-\n",
    "Recursion in Python is a programming technique where a function calls itself to solve smaller instances of the same problem. It involves breaking down a problem into smaller, more manageable subproblems until a base case is reached. Recursion is characterized by self-referential function calls.\n",
    "\n",
    "Difference from iteration:\n",
    "\n",
    "Recursion involves a function calling itself, while iteration involves looping constructs like for and while to repeatedly execute a block of code.\n",
    "Recursion can be more concise and elegant for certain problems, but it can be less efficient in terms of memory usage and performance compared to iteration.\n",
    "Recursion typically involves more overhead due to function call overhead and maintaining a call stack."
   ]
  },
  {
   "cell_type": "code",
   "execution_count": 5,
   "metadata": {},
   "outputs": [],
   "source": [
    "#Q2\n",
    "def fact(n):\n",
    "    if n<=1:\n",
    "        return 1\n",
    "    else:\n",
    "        return n*fact(n-1)"
   ]
  },
  {
   "cell_type": "code",
   "execution_count": 6,
   "metadata": {},
   "outputs": [
    {
     "data": {
      "text/plain": [
       "120"
      ]
     },
     "execution_count": 6,
     "metadata": {},
     "output_type": "execute_result"
    }
   ],
   "source": [
    "fact(5)"
   ]
  },
  {
   "cell_type": "code",
   "execution_count": 9,
   "metadata": {},
   "outputs": [],
   "source": [
    "#Q3\n",
    "def fibo(q):\n",
    "    if q<=1:\n",
    "        return q\n",
    "    else:\n",
    "        return fibo(q-2)+fibo(q-1)"
   ]
  },
  {
   "cell_type": "code",
   "execution_count": 10,
   "metadata": {},
   "outputs": [
    {
     "data": {
      "text/plain": [
       "5"
      ]
     },
     "execution_count": 10,
     "metadata": {},
     "output_type": "execute_result"
    }
   ],
   "source": [
    "fibo(5)"
   ]
  },
  {
   "cell_type": "code",
   "execution_count": 5,
   "metadata": {},
   "outputs": [],
   "source": [
    "#Q4\n",
    "def calculate(*args):\n",
    "    if not args:\n",
    "        return 0\n",
    "    else:\n",
    "        return args[0]+calculate(*args[1:])"
   ]
  },
  {
   "cell_type": "code",
   "execution_count": 8,
   "metadata": {},
   "outputs": [
    {
     "data": {
      "text/plain": [
       "10"
      ]
     },
     "execution_count": 8,
     "metadata": {},
     "output_type": "execute_result"
    }
   ],
   "source": [
    "calculate(1,2,3,4)"
   ]
  },
  {
   "cell_type": "markdown",
   "metadata": {},
   "source": [
    "Q5.\n",
    "ANS-o prevent a recursive function from running indefinitely and causing a stack overflow error, you can:\n",
    "\n",
    "Ensure that the base case(s) are properly defined to terminate the recursion.\n",
    "\n",
    "Make sure that the inputs are getting closer to the base case(s) in each recursive call.\n",
    "\n",
    "Limit the depth of recursion or impose a maximum recursion depth if necessary.\n",
    "\n",
    "Use iterative solutions or tail recursion where applicable to avoid excessive stack usage."
   ]
  },
  {
   "cell_type": "code",
   "execution_count": null,
   "metadata": {},
   "outputs": [],
   "source": [
    "#Q6."
   ]
  },
  {
   "cell_type": "code",
   "execution_count": 9,
   "metadata": {},
   "outputs": [],
   "source": [
    "#Q7.\n",
    "def reverse(l):\n",
    "    if l==\"\":\n",
    "        return \"\"\n",
    "    else:\n",
    "        return reverse(l[1:])+l[0]"
   ]
  },
  {
   "cell_type": "code",
   "execution_count": 10,
   "metadata": {},
   "outputs": [
    {
     "data": {
      "text/plain": [
       "'tikna'"
      ]
     },
     "execution_count": 10,
     "metadata": {},
     "output_type": "execute_result"
    }
   ],
   "source": [
    "reverse('ankit')"
   ]
  },
  {
   "cell_type": "code",
   "execution_count": 17,
   "metadata": {},
   "outputs": [],
   "source": [
    "#Q8.\n",
    "def power(n,l):\n",
    "    if l==0:\n",
    "        return 1\n",
    "    else:\n",
    "        return n*power(n,l-1)"
   ]
  },
  {
   "cell_type": "code",
   "execution_count": 18,
   "metadata": {},
   "outputs": [
    {
     "data": {
      "text/plain": [
       "32"
      ]
     },
     "execution_count": 18,
     "metadata": {},
     "output_type": "execute_result"
    }
   ],
   "source": [
    "power(2,5)"
   ]
  },
  {
   "cell_type": "code",
   "execution_count": 19,
   "metadata": {},
   "outputs": [
    {
     "name": "stdout",
     "output_type": "stream",
     "text": [
      "Permutations of abc : ['abc', 'acb', 'bac', 'bca', 'cab', 'cba']\n"
     ]
    }
   ],
   "source": [
    "#Q9.\n"
   ]
  },
  {
   "cell_type": "code",
   "execution_count": 22,
   "metadata": {},
   "outputs": [],
   "source": [
    "#Q10.\n",
    "def palindrome(j):\n",
    "    if j==\"\":\n",
    "        return True\n",
    "    elif j==j[::-1]:\n",
    "        return True\n",
    "    else:\n",
    "        return False"
   ]
  },
  {
   "cell_type": "code",
   "execution_count": 23,
   "metadata": {},
   "outputs": [
    {
     "data": {
      "text/plain": [
       "False"
      ]
     },
     "execution_count": 23,
     "metadata": {},
     "output_type": "execute_result"
    }
   ],
   "source": [
    "palindrome('ankit')"
   ]
  },
  {
   "cell_type": "code",
   "execution_count": 4,
   "metadata": {},
   "outputs": [
    {
     "name": "stdout",
     "output_type": "stream",
     "text": [
      "[[4, 3, 2], [4, 3, 1], [4, 2, 1], [3, 2, 1]]\n"
     ]
    }
   ],
   "source": [
    "#Q11\n",
    "def generate_combinations(elements, combo_length):\n",
    "    if combo_length == 0:\n",
    "        return [[]]\n",
    "    if len(elements) == 0:\n",
    "        return []\n",
    "    first_element = elements[0]\n",
    "    rest_of_elements = elements[1:]\n",
    "    combinations_without_first = generate_combinations(rest_of_elements, combo_length)\n",
    "    combinations_with_first = generate_combinations(rest_of_elements, combo_length - 1)\n",
    "    for combo in combinations_with_first:\n",
    "        combo.append(first_element)\n",
    "    return combinations_without_first + combinations_with_first\n",
    "\n",
    "# Example usage:\n",
    "elements_list = [1, 2, 3, 4]\n",
    "combo_length = 3\n",
    "print(generate_combinations(elements_list, combo_length))\n"
   ]
  },
  {
   "cell_type": "markdown",
   "metadata": {},
   "source": [
    "BASICS OF FUNCTIONS"
   ]
  },
  {
   "cell_type": "markdown",
   "metadata": {},
   "source": [
    "Q1.\n",
    "ANS-A function in Python is a block of reusable code that performs a specific task. It takes input (if any), performs operations, and returns output (if specified). Functions are used to organize code, make it more readable, and reduce repetition by allowing you to encapsulate functionality into modular units. They promote code reuse, improve maintainability, and make programs easier to understand and debug."
   ]
  },
  {
   "cell_type": "markdown",
   "metadata": {},
   "source": [
    "Q2.\n",
    "ANS-In Python, you define a function using the def keyword followed by the function name and parentheses containing any parameters. Here's a simple example:"
   ]
  },
  {
   "cell_type": "code",
   "execution_count": 9,
   "metadata": {},
   "outputs": [
    {
     "name": "stdout",
     "output_type": "stream",
     "text": [
      "Hello, Alice!\n"
     ]
    }
   ],
   "source": [
    "def greet(name):\n",
    "    print(\"Hello, \" + name + \"!\")\n",
    "\n",
    "# Example usage:\n",
    "greet(\"Alice\")\n"
   ]
  },
  {
   "cell_type": "markdown",
   "metadata": {},
   "source": [
    "Q3.\n",
    "ANS-A function definition defines what a function does, including its name, parameters, and the code it executes. It's like creating a recipe for a dish.\n",
    "\n",
    "A function call is when you actually use the function by its name and provide any necessary arguments. It's like following the recipe and making the dish.\n",
    "\n",
    "\n",
    "\n",
    "\n",
    "\n"
   ]
  },
  {
   "cell_type": "code",
   "execution_count": 10,
   "metadata": {},
   "outputs": [
    {
     "name": "stdout",
     "output_type": "stream",
     "text": [
      "The sum of the two numbers is: 8\n"
     ]
    }
   ],
   "source": [
    "#Q4.\n",
    "def calculate_sum(num1, num2):\n",
    "    return num1 + num2\n",
    "\n",
    "result = calculate_sum(3, 5)\n",
    "print(\"The sum of the two numbers is:\", result)\n"
   ]
  },
  {
   "cell_type": "markdown",
   "metadata": {},
   "source": [
    "Q5.\n",
    "Ans A function signature is a way to describe a function using its name and the types of its parameters and return value. It typically includes the function name, the types of parameters it accepts (if any), and the type of value it returns (if any). It does not include the function's implementation or body."
   ]
  },
  {
   "cell_type": "code",
   "execution_count": 12,
   "metadata": {},
   "outputs": [
    {
     "name": "stdout",
     "output_type": "stream",
     "text": [
      "15\n"
     ]
    }
   ],
   "source": [
    "#Q6\n",
    "def product(x, y):\n",
    "    return x * y\n",
    "\n",
    "result = product(3, 5)\n",
    "print(result)  \n",
    "\n"
   ]
  },
  {
   "cell_type": "markdown",
   "metadata": {},
   "source": [
    "Function Parameters and Arguments:\n"
   ]
  },
  {
   "cell_type": "markdown",
   "metadata": {},
   "source": [
    "Q1\n",
    "Ans-Formal parameters are the placeholders in the function definition that represent the data that the function expects to receive when it's called.\n",
    "Actual arguments (or arguments) are the actual values or variables passed to the function when it's called, which correspond to the formal parameters.\n",
    "In simpler terms, formal parameters are like empty slots waiting to be filled with data, and actual arguments are the actual pieces of data that fill those slots when the function is called."
   ]
  },
  {
   "cell_type": "code",
   "execution_count": 13,
   "metadata": {},
   "outputs": [
    {
     "name": "stdout",
     "output_type": "stream",
     "text": [
      "Hello, World\n",
      "Hello, Alice\n"
     ]
    }
   ],
   "source": [
    "#Q2\n",
    "# Define a function with default argument values\n",
    "def greet(name=\"World\"):\n",
    "    print(\"Hello,\", name)\n",
    "\n",
    "# Call the function without providing any argument\n",
    "greet()\n",
    "\n",
    "# Call the function providing a specific argument\n",
    "greet(\"Alice\")\n"
   ]
  },
  {
   "cell_type": "markdown",
   "metadata": {},
   "source": [
    "Q3.\n",
    "Ans-in Python, you use keyword arguments by specifying the parameter name followed by the value you want to pass to that parameter, separated by an equal sign =. Here's a simple example:"
   ]
  },
  {
   "cell_type": "code",
   "execution_count": 14,
   "metadata": {},
   "outputs": [
    {
     "name": "stdout",
     "output_type": "stream",
     "text": [
      "Hello, Alice! How are you?\n"
     ]
    }
   ],
   "source": [
    "def greet(name, message):\n",
    "    print(f\"Hello, {name}! {message}\")\n",
    "\n",
    "# Using keyword arguments\n",
    "greet(name=\"Alice\", message=\"How are you?\")\n"
   ]
  },
  {
   "cell_type": "code",
   "execution_count": 1,
   "metadata": {},
   "outputs": [
    {
     "name": "stdout",
     "output_type": "stream",
     "text": [
      "15\n"
     ]
    }
   ],
   "source": [
    "#Q4.\n",
    "def calculate_sum(*args):\n",
    "    return sum(args)\n",
    "\n",
    "# Example usage:\n",
    "result = calculate_sum(1, 2, 3, 4, 5)\n",
    "print(result) \n"
   ]
  },
  {
   "cell_type": "markdown",
   "metadata": {},
   "source": [
    "Q5.\n",
    "ANS-In short, the *args syntax allows a function to accept any number of positional arguments, while the **kwargs syntax allows it to accept any number of keyword arguments in the form of a dictionary. They provide flexibility when defining functions without specifying the exact number of arguments they'll receive.\n",
    "\n",
    "\n",
    "\n",
    "\n"
   ]
  },
  {
   "cell_type": "markdown",
   "metadata": {},
   "source": [
    "Return Values and Scoping:\n"
   ]
  },
  {
   "cell_type": "markdown",
   "metadata": {},
   "source": [
    "Q1.\n",
    "Ans-The return statement in Python functions is used to specify the value that the function should give back when it's called. It stops the execution of the function and sends the specified value back to the caller."
   ]
  },
  {
   "cell_type": "code",
   "execution_count": 3,
   "metadata": {},
   "outputs": [],
   "source": [
    "def divide_and_remainder(dividend, divisor):\n",
    "    quotient = dividend // divisor\n",
    "    remainder = dividend % divisor\n",
    "    return quotient, remainder\n",
    "\n",
    "   # This will return (3, 1)\n"
   ]
  },
  {
   "cell_type": "code",
   "execution_count": 4,
   "metadata": {},
   "outputs": [
    {
     "data": {
      "text/plain": [
       "(3, 1)"
      ]
     },
     "execution_count": 4,
     "metadata": {},
     "output_type": "execute_result"
    }
   ],
   "source": [
    "divide_and_remainder(10, 3)"
   ]
  },
  {
   "cell_type": "markdown",
   "metadata": {},
   "source": [
    "Q2.\n",
    "Ans-In Python, variable scope refers to where in your code a variable is accessible and can be used.\n",
    "\n",
    "Local variables are defined within a function and are accessible only within that function. They cannot be accessed from outside the function.\n",
    "\n",
    "Global variables are defined outside of any function and can be accessed from anywhere in the code, including inside functions. However, if you want to modify a global variable within a function, you need to explicitly declare it as global inside the function.\n",
    "\n",
    "In short, local variables are limited to the function they're defined in, while global variables can be accessed and modified throughout the entire program."
   ]
  },
  {
   "cell_type": "code",
   "execution_count": 4,
   "metadata": {},
   "outputs": [
    {
     "name": "stdout",
     "output_type": "stream",
     "text": [
      "Global variable: 10\n",
      "Global variable: 11\n"
     ]
    }
   ],
   "source": [
    "#Q3.\n",
    "# Define a global variable\n",
    "global_var = 10\n",
    "\n",
    "# Define a function that uses the global variable\n",
    "def increment_global():\n",
    "    global global_var  # Indicate that we want to modify the global variable\n",
    "    global_var += 1\n",
    "\n",
    "# Define a function that prints the global variable\n",
    "def print_global():\n",
    "    print(\"Global variable:\", global_var)\n",
    "\n",
    "# Demonstrate the use of global variable within functions\n",
    "print_global()    # Output: Global variable: 10\n",
    "increment_global()\n",
    "print_global()    # Output: Global variable: 11\n"
   ]
  },
  {
   "cell_type": "code",
   "execution_count": 5,
   "metadata": {},
   "outputs": [],
   "source": [
    "#Q4.\n",
    "def fact(a):\n",
    "    if a <=0:\n",
    "        return 1\n",
    "    else:\n",
    "        return a*fact(a-1)\n"
   ]
  },
  {
   "cell_type": "code",
   "execution_count": 6,
   "metadata": {},
   "outputs": [
    {
     "data": {
      "text/plain": [
       "120"
      ]
     },
     "execution_count": 6,
     "metadata": {},
     "output_type": "execute_result"
    }
   ],
   "source": [
    "fact(5)"
   ]
  },
  {
   "cell_type": "markdown",
   "metadata": {},
   "source": [
    "Q5.\n",
    "Ans-In Python, you can access variables defined outside a function from within the function by directly referencing them using their names. These variables are considered to be in the function's \"scope\" and are accessible as long as they are not shadowed by variables with the same name within the function."
   ]
  },
  {
   "cell_type": "markdown",
   "metadata": {},
   "source": [
    "Lambda Functions and Higher-Order Functions:\n",
    "\n"
   ]
  },
  {
   "cell_type": "markdown",
   "metadata": {},
   "source": [
    "Q1.\n",
    "Ans-Lambda functions in Python are small, anonymous functions defined using the lambda keyword. They are typically used when you need a simple function for a short period of time, often in situations where you would use a regular function but don't want to bother with the formalities of defining one.\n",
    "\n",
    "Lambda functions are commonly used in scenarios such as:\n",
    "\n",
    "Passing a simple function as an argument to higher-order functions like map(), filter(), and sorted().\n",
    "Defining small, inline functions within list comprehensions or dictionary comprehensions.\n",
    "Creating short, concise callbacks for event handlers or callback functions.\n",
    "Overall, lambda functions offer a convenient way to create quick, one-time functions without the need for a formal function definition.\n",
    "\n",
    "\n",
    "\n",
    "\n",
    "\n",
    "\n"
   ]
  },
  {
   "cell_type": "code",
   "execution_count": 9,
   "metadata": {},
   "outputs": [
    {
     "name": "stdout",
     "output_type": "stream",
     "text": [
      "[(10, 1), (33, 2), (1, 3)]\n"
     ]
    }
   ],
   "source": [
    "#Q2.\n",
    "# List of tuples\n",
    "list_of_tuples = [(1, 3), (10, 1), (33, 2)]\n",
    "\n",
    "# Sorting the list of tuples based on the second element\n",
    "sorted_list = sorted(list_of_tuples, key=lambda x: x[1])\n",
    "\n",
    "# Printing the sorted list\n",
    "print(sorted_list)\n",
    "\n"
   ]
  },
  {
   "cell_type": "code",
   "execution_count": 10,
   "metadata": {},
   "outputs": [
    {
     "name": "stdout",
     "output_type": "stream",
     "text": [
      "7\n",
      "12\n"
     ]
    }
   ],
   "source": [
    "#Q3.\n",
    "def apply_operation(operation, x, y):\n",
    "    return operation(x, y)\n",
    "\n",
    "def add(x, y):\n",
    "    return x + y\n",
    "\n",
    "def multiply(x, y):\n",
    "    return x * y\n",
    "\n",
    "result1 = apply_operation(add, 3, 4)  # Passing the add function as an argument\n",
    "result2 = apply_operation(multiply, 3, 4)  # Passing the multiply function as an argument\n",
    "\n",
    "print(result1)  \n",
    "print(result2)\n"
   ]
  },
  {
   "cell_type": "code",
   "execution_count": 11,
   "metadata": {},
   "outputs": [
    {
     "name": "stdout",
     "output_type": "stream",
     "text": [
      "[1, 4, 9, 16, 25]\n"
     ]
    }
   ],
   "source": [
    "#Q4.\n",
    "def apply_function_to_list(numbers, func):\n",
    "    return [func(num) for num in numbers]\n",
    "\n",
    "# Example usage:\n",
    "numbers_list = [1, 2, 3, 4, 5]\n",
    "square_function = lambda x: x ** 2\n",
    "result = apply_function_to_list(numbers_list, square_function)\n",
    "print(result)\n"
   ]
  },
  {
   "cell_type": "markdown",
   "metadata": {},
   "source": [
    "Built-in Functions:\n"
   ]
  },
  {
   "cell_type": "markdown",
   "metadata": {},
   "source": [
    "Q1.\n",
    "ans-len(): Returns the length of an object, such as a list, tuple, string, etc. It counts the number of elements in the object.\n",
    "\n",
    "max(): Returns the maximum value from a sequence, such as a list, tuple, or set. It determines the largest element in the sequence.\n",
    "\n",
    "min(): Returns the minimum value from a sequence, such as a list, tuple, or set. It determines the smallest element in the sequence.\n",
    "\n",
    "These functions are handy for various tasks such as finding the size of a collection, determining extreme values, or simply comparing elements."
   ]
  },
  {
   "cell_type": "code",
   "execution_count": 14,
   "metadata": {},
   "outputs": [
    {
     "name": "stdout",
     "output_type": "stream",
     "text": [
      "[1, 4, 9, 16, 25]\n"
     ]
    }
   ],
   "source": [
    "#Q2.\n",
    "# Define a function to be applied to each element\n",
    "def square(x):\n",
    "    return x ** 2\n",
    "\n",
    "# Create a list of numbers\n",
    "numbers = [1, 2, 3, 4, 5]\n",
    "\n",
    "# Use map() to apply the function to each element of the list\n",
    "squared_numbers = list(map(square, numbers))\n",
    "\n",
    "# Print the squared numbers\n",
    "print(squared_numbers)\n"
   ]
  },
  {
   "cell_type": "markdown",
   "metadata": {},
   "source": [
    "Q3.\n",
    "ans-The filter() function in Python is used to create a new iterator from elements of an iterable (like a list) for which a provided function returns true. It takes two parameters: the function that determines the filtering condition and the iterable to be filtered.\n",
    "\n",
    "You would use filter() when you need to selectively pick elements from an iterable based on certain criteria defined by a function, rather than iterating over the entire list manually and checking each element individually. It's particularly useful for compactly expressing filtering logic."
   ]
  },
  {
   "cell_type": "code",
   "execution_count": 15,
   "metadata": {},
   "outputs": [
    {
     "name": "stdout",
     "output_type": "stream",
     "text": [
      "Product of all elements: 120\n"
     ]
    }
   ],
   "source": [
    "#Q4.\n",
    "from functools import reduce\n",
    "\n",
    "# Define a list of numbers\n",
    "numbers = [2, 3, 4, 5]\n",
    "\n",
    "# Use reduce() function to find the product of all elements\n",
    "product = reduce(lambda x, y: x * y, numbers)\n",
    "\n",
    "# Print the product\n",
    "print(\"Product of all elements:\", product)\n"
   ]
  },
  {
   "cell_type": "markdown",
   "metadata": {},
   "source": [
    "Function Documentation and Best Practices:"
   ]
  },
  {
   "cell_type": "markdown",
   "metadata": {},
   "source": [
    "Q1.\n",
    "ans-Docstrings in Python functions serve the purpose of providing documentation or information about the function's purpose, parameters, and return values. They help developers understand how to use the function without having to inspect its implementation.\n",
    "\n",
    "To write a docstring, you enclose a multi-line string within triple quotes (''' or \"\"\") right after the function definition. It's typically formatted like:"
   ]
  },
  {
   "cell_type": "code",
   "execution_count": 24,
   "metadata": {},
   "outputs": [],
   "source": [
    "#example:\n",
    "def function_name(parameters):\n",
    "    \"\"\"\n",
    "    Description of the function.\n",
    "\n",
    "    Parameters:\n",
    "    - parameter1: Description of parameter1\n",
    "    - parameter2: Description of parameter2\n",
    "\n",
    "    Returns:\n",
    "    Description of the return value.\n",
    "    \"\"\"\n",
    "    # Function implementation\n"
   ]
  },
  {
   "cell_type": "markdown",
   "metadata": {},
   "source": [
    "Q2.\n",
    "ans- \n",
    "1. Use descriptive names that clearly indicate the purpose or functionality of the function or variable.\n",
    "\n",
    "2. Follow the snake_case naming convention for functions and variables, where words are separated by underscores.\n",
    "\n",
    "3. Use lowercase letters for function and variable names, except for class names which typically use CamelCase.\n",
    "4. Choose meaningful and concise names, avoiding overly long or cryptic names.\n",
    "5. Be consistent with naming conventions throughout your codebase.\n",
    "6. Avoid using reserved keywords or built-in function names as identifiers to prevent conflicts and confusion.\n",
    "7. Use nouns for variables and verbs for functions to convey their roles and actions.\n",
    "8. Use singular nouns for variables representing single items and plural nouns for collections or sequences of items.\n",
    "9. Consider using prefixes or suffixes to indicate the type of variable (e.g., list_of_names, num_elements).\n",
    "10. Refactor names when necessary to improve clarity and maintainability, especially as the codebase evolves."
   ]
  }
 ],
 "metadata": {
  "kernelspec": {
   "display_name": "Python 3",
   "language": "python",
   "name": "python3"
  },
  "language_info": {
   "codemirror_mode": {
    "name": "ipython",
    "version": 3
   },
   "file_extension": ".py",
   "mimetype": "text/x-python",
   "name": "python",
   "nbconvert_exporter": "python",
   "pygments_lexer": "ipython3",
   "version": "3.11.8"
  }
 },
 "nbformat": 4,
 "nbformat_minor": 2
}
